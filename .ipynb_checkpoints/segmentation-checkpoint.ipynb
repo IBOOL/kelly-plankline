{
 "cells": [
  {
   "cell_type": "code",
   "execution_count": 3,
   "metadata": {},
   "outputs": [],
   "source": [
    "import sys\n",
    "import argparse\n",
    "import configparser\n",
    "from PIL import Image\n",
    "import cv2  # still used to save images out\n",
    "import os\n",
    "import numpy as np\n",
    "import csv\n",
    "from multiprocess import Process, Queue\n",
    "import tqdm\n",
    "import shutil\n",
    "import random"
   ]
  },
  {
   "cell_type": "code",
   "execution_count": 4,
   "metadata": {},
   "outputs": [],
   "source": [
    "#pip install multiprocess"
   ]
  },
  {
   "cell_type": "markdown",
   "metadata": {},
   "source": [
    "## Definitions and Functions"
   ]
  },
  {
   "cell_type": "code",
   "execution_count": 5,
   "metadata": {},
   "outputs": [],
   "source": [
    "class Frame:\n",
    "    def __init__(self, fpath, name, frame, n):\n",
    "        self.fpath = fpath  # default is 0 for primary camera\n",
    "        self.name = name\n",
    "        self.frame = frame\n",
    "        self.n = n\n",
    "\n",
    "    # method for returning latest read frame\n",
    "    def read(self):\n",
    "        return self.frame\n",
    "\n",
    "    # method called to stop reading frames\n",
    "    def get_n(self):\n",
    "        return self.n\n",
    "\n",
    "    def get_name(self):\n",
    "        return self.name"
   ]
  },
  {
   "cell_type": "code",
   "execution_count": 6,
   "metadata": {},
   "outputs": [],
   "source": [
    "def bbox_area(bbox):\n",
    "    res = []\n",
    "    for p in bbox:\n",
    "        res.append(abs(p[2]*p[3]))\n",
    "    return res\n",
    "\n",
    "\n",
    "def intersection(boxA, boxB):\n",
    "    # determine the (x, y)-coordinates of the intersection rectangle\n",
    "    xA = max(boxA[0], boxB[0])\n",
    "    yA = max(boxA[1], boxB[1])\n",
    "    xB = min(boxA[2], boxB[2])\n",
    "    yB = min(boxA[3], boxB[3])\n",
    "    interArea = abs(max((xB - xA, 0)) * max((yB - yA), 0))\n",
    "\n",
    "    return interArea"
   ]
  },
  {
   "cell_type": "code",
   "execution_count": 7,
   "metadata": {},
   "outputs": [],
   "source": [
    "def process_frame(q, config): ## TODO: write metadata file\n",
    "    \"\"\"\n",
    "    This function processes each frame (provided as cv2 image frame) for flatfielding and segmentation. The steps include\n",
    "    1. Flatfield intensities as indicated\n",
    "    2. Segment the image using cv2 MSER algorithmn.\n",
    "    3. Remove strongly overlapping bounding boxes\n",
    "    4. Save cropped targets.\n",
    "    \"\"\"\n",
    "\n",
    "    while True:\n",
    "        frame = q.get()\n",
    "        if config['general']['dry_run'] == 'True':\n",
    "            print('.')\n",
    "            return\n",
    "        \n",
    "        ## Read img and flatfield\n",
    "        gray = cv2.cvtColor(frame.read(), cv2.COLOR_BGR2GRAY)\n",
    "        gray = np.array(gray)\n",
    "        field = np.quantile(gray, q=float(config['segmentation']['flatfield_q']), axis=0)\n",
    "        gray = (gray / field.T * 255.0)\n",
    "        gray = gray.clip(0,255).astype(np.uint8)\n",
    "\n",
    "        # Apply Otsu's threshold\n",
    "        thresh = cv2.threshold(gray, 0, 255, cv2.THRESH_BINARY_INV + cv2.THRESH_OTSU)[1]\n",
    "        cnts = cv2.findContours(thresh, cv2.RETR_EXTERNAL, cv2.CHAIN_APPROX_SIMPLE)\n",
    "        cnts = cnts[0] if len(cnts) == 2 else cnts[1]\n",
    "\n",
    "        name = frame.get_name()\n",
    "        n = frame.get_n()\n",
    "        stats = []\n",
    "\n",
    "        with open(f'{name[:-1]} statistics.csv', 'a', newline='\\n') as outcsv:\n",
    "            outwritter = csv.writer(outcsv, delimiter=',', quotechar='|')\n",
    "            for i in range(len(cnts)):\n",
    "                x,y,w,h = cv2.boundingRect(cnts[i])\n",
    "                if 2*w + 2*h > int(config['segmentation']['min_perimeter']) / 2: # Save information if perimenter is greater than half the minimum\n",
    "                    stats = [n, i, x + w/2, y + h/2, w, h]\n",
    "                    outwritter.writerow(stats)\n",
    "                \n",
    "                if 2*w + 2*h > int(config['segmentation']['min_perimeter']):\n",
    "                    size = max(w, h)\n",
    "                    im = Image.fromarray(gray[y:(y+h), x:(x+w)])\n",
    "                    im_padded = Image.new(im.mode, (size, size), (255))\n",
    "                    \n",
    "                    if (w > h):\n",
    "                        left = 0\n",
    "                        top = (size - h)//2\n",
    "                    else:\n",
    "                        left = (size - w)//2\n",
    "                        top = 0\n",
    "                    im_padded.paste(im, (left, top))\n",
    "                    im_padded.save(f\"{name}{n:06}-{i:06}.png\")"
   ]
  },
  {
   "cell_type": "code",
   "execution_count": 8,
   "metadata": {},
   "outputs": [],
   "source": [
    "def process_avi(avi_path, segmentation_dir, config, q):\n",
    "    \"\"\"\n",
    "    This function will take an avi filepath as input and perform the following steps:\n",
    "    1. Create output file structures/directories\n",
    "    2. Load each frame, pass it through flatfielding and sequentially save segmented targets\n",
    "    \"\"\"\n",
    "\n",
    "    # segmentation_dir: /media/plankline/Data/analysis/segmentation/Camera1/segmentation/Transect1-REG\n",
    "    _, filename = os.path.split(avi_path)\n",
    "    output_path = segmentation_dir + os.path.sep + filename + os.path.sep\n",
    "    os.makedirs(output_path, exist_ok=True)\n",
    "    \n",
    "\n",
    "    video = cv2.VideoCapture(avi_path)\n",
    "    if not video.isOpened():\n",
    "        return\n",
    "    \n",
    "    with open(f'{output_path[:-1]} statistics.csv', 'a', newline='\\n') as outcsv:\n",
    "        outwritter = csv.writer(outcsv, delimiter=',', quotechar='|')\n",
    "        outwritter.writerow(['frame', 'crop', 'x', 'y', 'w', 'h'])\n",
    "\n",
    "    n = 1\n",
    "    while True:\n",
    "        ret, frame = video.read()\n",
    "        if ret:\n",
    "            q.put(Frame(avi_path, output_path, frame, n), block = True)\n",
    "            n += 1\n",
    "        else:\n",
    "            break"
   ]
  },
  {
   "cell_type": "code",
   "execution_count": 9,
   "metadata": {},
   "outputs": [],
   "source": [
    "def process_image_dir(img_path, segmentation_dir, config, q):\n",
    "    \"\"\"\n",
    "    This function will take an image folder as input and perform the following steps:\n",
    "    1. Create output file structures/directories\n",
    "    2. Load each frame, pass it through flatfielding and sequentially save segmented targets\n",
    "    \"\"\"\n",
    "\n",
    "    # segmentation_dir: /media/plankline/Data/analysis/segmentation/Camera1/segmentation/Transect1-REG\n",
    "    _, filename = os.path.split(img_path)\n",
    "    output_path = segmentation_dir + os.path.sep + filename + os.path.sep\n",
    "    os.makedirs(output_path, exist_ok=True)\n",
    "\n",
    "    with open(f'{output_path[:-1]} statistics.csv', 'a', newline='\\n') as outcsv:\n",
    "              outwritter = csv.writer(outcsv, delimiter=',', quotechar='|')\n",
    "              outwritter.writerow(['frame', 'crop', 'x', 'y', 'w', 'h'])\n",
    "\n",
    "    n = 1\n",
    "    for f in os.listdir(img_path):\n",
    "      if f.endswith(\".jpg\"):\n",
    "          image = cv2.imread(img_path + os.path.sep + f)\n",
    "          \n",
    "          ## Apply Mask\n",
    "          mask = np.zeros(image.shape[:2], dtype=\"uint8\")\n",
    "          cv2.circle(mask, (image.shape[1]//2, image.shape[0]//2), 1300, 255, -1)\n",
    "          image = cv2.bitwise_and(image, image, mask = mask)\n",
    "          \n",
    "          q.put(Frame(img_path, output_path, image, n), block = True)\n",
    "          n += 1"
   ]
  },
  {
   "cell_type": "code",
   "execution_count": 11,
   "metadata": {},
   "outputs": [],
   "source": [
    "def generate_mean_image(directory, output_path):\n",
    "    # Get a list of all image file names in the directory\n",
    "    image_files = [file for file in os.listdir(directory) if file.endswith(('.jpg', '.jpeg', '.png'))]\n",
    "\n",
    "    if not image_files:\n",
    "        print(\"No image files found in the directory.\")\n",
    "        return\n",
    "\n",
    "    # Initialize variables to store sum of pixel values\n",
    "    sum_image = None\n",
    "\n",
    "    # Iterate over each image in the directory\n",
    "    for image_file in image_files:\n",
    "        # Read the image\n",
    "        image = cv2.imread(os.path.join(directory, image_file))\n",
    "\n",
    "        # Convert image to float32 for accurate summation\n",
    "        image_float = image.astype(np.float32)\n",
    "\n",
    "        # Accumulate pixel values\n",
    "        if sum_image is None:\n",
    "            sum_image = image_float\n",
    "        else:\n",
    "            sum_image += image_float\n",
    "\n",
    "    # Calculate mean image\n",
    "    mean_image = sum_image / len(image_files)\n",
    "\n",
    "    # Convert mean image back to uint8\n",
    "    mean_image_uint8 = mean_image.astype(np.uint8)\n",
    "    \n",
    "    cv2.imwrite(output_path + os.path.sep + 'mean_image.jpg', mean_image_uint8)\n",
    "    print(\"Mean image saved as 'mean_image.jpg'.\")"
   ]
  },
  {
   "cell_type": "markdown",
   "metadata": {},
   "source": [
    "## Configuration"
   ]
  },
  {
   "cell_type": "code",
   "execution_count": 4,
   "metadata": {},
   "outputs": [
    {
     "name": "stdout",
     "output_type": "stream",
     "text": [
      "Starting Segmentation Script V2024.05.18\n"
     ]
    }
   ],
   "source": [
    "directory = '../../raw/camera0/shadowgraph'\n",
    "\n",
    "config = {\n",
    "    'general' : {\n",
    "        'dir_permissions' : 511,\n",
    "        'dry_run' : 'False'\n",
    "    },\n",
    "    'segmentation' : {\n",
    "        'basename' : 'REG',\n",
    "        'min_perimeter' : 4*30,\n",
    "        'flatfield_q' : 0.05\n",
    "    }\n",
    "}\n",
    "\n",
    "v_string = \"V2024.05.18\"\n",
    "print(f\"Starting Segmentation Script {v_string}\")"
   ]
  },
  {
   "cell_type": "markdown",
   "metadata": {},
   "source": [
    "## Setup directories and find AVIs"
   ]
  },
  {
   "cell_type": "code",
   "execution_count": 5,
   "metadata": {},
   "outputs": [],
   "source": [
    "## Determine directories\n",
    "raw_dir = os.path.abspath(directory) # /media/plankline/Data/raw/Camera0/test1\n",
    "segmentation_dir = raw_dir.replace(\"raw\", \"analysis\") # /media/plankline/Data/analysis/Camera1/Transect1\n",
    "segmentation_dir = segmentation_dir.replace(\"camera0/\", \"camera0/segmentation/\") # /media/plankline/Data/analysis/Camera1/Transect1\n",
    "segmentation_dir = segmentation_dir.replace(\"camera1/\", \"camera1/segmentation/\") # /media/plankline/Data/analysis/Camera1/segmentation/Transect1\n",
    "segmentation_dir = segmentation_dir.replace(\"camera2/\", \"camera2/segmentation/\") # /media/plankline/Data/analysis/Camera1/segmentation/Transect1\n",
    "segmentation_dir = segmentation_dir.replace(\"camera3/\", \"camera3/segmentation/\") # /media/plankline/Data/analysis/Camera1/segmentation/Transect1\n",
    "        \n",
    "segmentation_dir = segmentation_dir + f\"-{config['segmentation']['basename']}\" # /media/plankline/Data/analysis/segmentation/Camera1/segmentation/Transect1-REG\n",
    "os.makedirs(segmentation_dir, int(config['general']['dir_permissions']), exist_ok = True)\n"
   ]
  },
  {
   "cell_type": "code",
   "execution_count": 12,
   "metadata": {},
   "outputs": [
    {
     "name": "stdout",
     "output_type": "stream",
     "text": [
      "Number of AVIs found: 0\n"
     ]
    }
   ],
   "source": [
    "avis = []\n",
    "avis = [os.path.join(raw_dir, avi) for avi in os.listdir(raw_dir) if avi.endswith(\".avi\")]\n",
    "print(f\"Number of AVIs found: {len(avis)}\")"
   ]
  },
  {
   "cell_type": "code",
   "execution_count": 6,
   "metadata": {},
   "outputs": [
    {
     "name": "stdout",
     "output_type": "stream",
     "text": [
      "Number of image sets found: 2\n"
     ]
    }
   ],
   "source": [
    "imgsets = []\n",
    "imgsets = [os.path.join(raw_dir, sub) for sub in next(os.walk(raw_dir))[1]]\n",
    "print(f\"Number of image sets found: {len(imgsets)}\")"
   ]
  },
  {
   "cell_type": "markdown",
   "metadata": {},
   "source": [
    "## Start workers and then process each AVI"
   ]
  },
  {
   "cell_type": "code",
   "execution_count": 14,
   "metadata": {},
   "outputs": [
    {
     "name": "stdout",
     "output_type": "stream",
     "text": [
      "8\n"
     ]
    }
   ],
   "source": [
    "## Prepare workers for receiving frames\n",
    "num_threads = os.cpu_count() - 1\n",
    "num_threads = 8\n",
    "max_queue = num_threads * 4\n",
    "q = Queue(maxsize=int(max_queue))\n",
    "\n",
    "for i in range(num_threads):\n",
    "    worker = Process(target=process_frame, args=(q, config,), daemon=True)\n",
    "    worker.start()\n",
    "    \n",
    "print(num_threads)"
   ]
  },
  {
   "cell_type": "code",
   "execution_count": 15,
   "metadata": {},
   "outputs": [],
   "source": [
    "if len(avis) > 0:\n",
    "    for av in tqdm.tqdm(avis):\n",
    "        process_avi(av, segmentation_dir, config, q)"
   ]
  },
  {
   "cell_type": "code",
   "execution_count": null,
   "metadata": {},
   "outputs": [
    {
     "name": "stderr",
     "output_type": "stream",
     "text": [
      "  0%|                                                     | 0/2 [00:00<?, ?it/s]"
     ]
    }
   ],
   "source": [
    "if len(imgsets) > 0:\n",
    "    for im in tqdm.tqdm(imgsets):\n",
    "        process_image_dir(im, segmentation_dir, config, q)\n",
    "\n",
    "print('Joining')\n",
    "worker.join(timeout=10)"
   ]
  },
  {
   "cell_type": "code",
   "execution_count": null,
   "metadata": {},
   "outputs": [],
   "source": [
    "for av in avis:\n",
    "    _, filename = os.path.split(av)\n",
    "    output_path = segmentation_dir + os.path.sep + filename + os.path.sep\n",
    "    shutil.make_archive(segmentation_dir + os.path.sep + filename, 'zip', output_path)\n",
    "    shutil.rmtree(output_path, ignore_errors=True)"
   ]
  },
  {
   "cell_type": "code",
   "execution_count": 10,
   "metadata": {},
   "outputs": [
    {
     "name": "stdout",
     "output_type": "stream",
     "text": [
      "Mean image saved as 'mean_image.jpg'.\n"
     ]
    }
   ],
   "source": [
    "generate_mean_image(imgsets[0], segmentation_dir)"
   ]
  },
  {
   "cell_type": "code",
   "execution_count": 12,
   "metadata": {},
   "outputs": [
    {
     "name": "stdout",
     "output_type": "stream",
     "text": [
      "Mean image saved as 'mean_image.jpg'.\n"
     ]
    }
   ],
   "source": [
    "generate_mean_image(imgsets[1], segmentation_dir)"
   ]
  },
  {
   "cell_type": "code",
   "execution_count": 7,
   "metadata": {},
   "outputs": [],
   "source": [
    "import random\n",
    "\n",
    "def generate_median_image(directory, output_dir):\n",
    "    # Get a list of all image file names in the directory\n",
    "    image_files = [file for file in os.listdir(directory) if file.endswith(('.jpg', '.jpeg', '.png'))]\n",
    "    image_files = random.sample(image_files, 100)\n",
    "    \n",
    "    if not image_files:\n",
    "        print(\"No image files found in the directory.\")\n",
    "        return\n",
    "\n",
    "    # Read the first image to get the dimensions\n",
    "    first_image_path = os.path.join(directory, image_files[0])\n",
    "    first_image = cv2.imread(first_image_path, cv2.IMREAD_GRAYSCALE)\n",
    "    first_image = cv2.GaussianBlur(first_image, (5,5), 0)\n",
    "    height, width = first_image.shape\n",
    "\n",
    "    # Initialize an array to store all images\n",
    "    all_images = np.zeros((len(image_files), height, width), dtype=np.uint8)\n",
    "\n",
    "    # Load all images into the array\n",
    "    for idx, image_file in enumerate(image_files):\n",
    "        image_path = os.path.join(directory, image_file)\n",
    "        image = cv2.imread(image_path, cv2.IMREAD_GRAYSCALE)\n",
    "        image = cv2.GaussianBlur(image, (5,5), 0)\n",
    "        all_images[idx] = image\n",
    "\n",
    "    # Compute the median image\n",
    "    median_image = np.median(all_images, axis=0).astype(np.uint8)\n",
    "\n",
    "    # Optionally, save the median image to disk\n",
    "    cv2.imwrite(output_dir + os.path.sep + 'median_image.jpg', median_image)\n",
    "    print(\"Median image saved as 'median_image.jpg'.\")"
   ]
  },
  {
   "cell_type": "code",
   "execution_count": 8,
   "metadata": {},
   "outputs": [
    {
     "name": "stdout",
     "output_type": "stream",
     "text": [
      "Median image saved as 'median_image.jpg'.\n"
     ]
    }
   ],
   "source": [
    "generate_median_image(imgsets[0], segmentation_dir)"
   ]
  },
  {
   "cell_type": "code",
   "execution_count": null,
   "metadata": {},
   "outputs": [],
   "source": []
  }
 ],
 "metadata": {
  "kernelspec": {
   "display_name": "Python 3 (ipykernel)",
   "language": "python",
   "name": "python3"
  },
  "language_info": {
   "codemirror_mode": {
    "name": "ipython",
    "version": 3
   },
   "file_extension": ".py",
   "mimetype": "text/x-python",
   "name": "python",
   "nbconvert_exporter": "python",
   "pygments_lexer": "ipython3",
   "version": "3.10.13"
  }
 },
 "nbformat": 4,
 "nbformat_minor": 4
}
