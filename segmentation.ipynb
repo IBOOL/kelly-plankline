{
 "cells": [
  {
   "cell_type": "code",
   "execution_count": 5,
   "metadata": {},
   "outputs": [],
   "source": [
    "import sys\n",
    "import argparse\n",
    "import configparser\n",
    "from PIL import Image\n",
    "import cv2  # still used to save images out\n",
    "import os\n",
    "import numpy as np\n",
    "import csv\n",
    "#from queue import Queue\n",
    "#from threading import Thread\n",
    "from multiprocessing import Process, Queue\n",
    "import tqdm\n",
    "import sqlite3"
   ]
  },
  {
   "cell_type": "code",
   "execution_count": 2,
   "metadata": {},
   "outputs": [
    {
     "name": "stdout",
     "output_type": "stream",
     "text": [
      "Collecting opencv-python--headless\n",
      "  Downloading opencv_python_headless-4.8.1.78-cp37-abi3-manylinux_2_17_x86_64.manylinux2014_x86_64.whl (49.1 MB)\n",
      "\u001b[K     |████████████████████████████████| 49.1 MB 28.4 MB/s eta 0:00:01\n",
      "\u001b[?25hRequirement already satisfied: numpy>=1.17.3; python_version >= \"3.8\" in /usr/local/lib/python3.8/dist-packages (from opencv-python--headless) (1.23.4)\n",
      "Installing collected packages: opencv-python-headless\n",
      "Successfully installed opencv-python-headless-4.8.1.78\n",
      "\u001b[33mWARNING: You are using pip version 20.2.4; however, version 23.3.1 is available.\n",
      "You should consider upgrading via the '/usr/bin/python3 -m pip install --upgrade pip' command.\u001b[0m\n",
      "Note: you may need to restart the kernel to use updated packages.\n"
     ]
    }
   ],
   "source": [
    "#pip install opencv-python--headless tqdm seaborn"
   ]
  },
  {
   "cell_type": "code",
   "execution_count": 6,
   "metadata": {},
   "outputs": [],
   "source": [
    "class Frame:\n",
    "    def __init__(self, fpath, name, frame, n):\n",
    "        self.fpath = fpath  # default is 0 for primary camera\n",
    "        self.name = name\n",
    "        self.frame = frame\n",
    "        self.n = n\n",
    "\n",
    "    # method for returning latest read frame\n",
    "    def read(self):\n",
    "        return self.frame\n",
    "\n",
    "    # method called to stop reading frames\n",
    "    def get_n(self):\n",
    "        return self.n\n",
    "\n",
    "    def get_name(self):\n",
    "        return self.name\n",
    "\n",
    "\n",
    "def bbox_area(bbox):\n",
    "    res = []\n",
    "    for p in bbox:\n",
    "        res.append(abs(p[2]*p[3]))\n",
    "    return res\n",
    "\n",
    "\n",
    "def intersection(boxA, boxB):\n",
    "    # determine the (x, y)-coordinates of the intersection rectangle\n",
    "    xA = max(boxA[0], boxB[0])\n",
    "    yA = max(boxA[1], boxB[1])\n",
    "    xB = min(boxA[2], boxB[2])\n",
    "    yB = min(boxA[3], boxB[3])\n",
    "    interArea = abs(max((xB - xA, 0)) * max((yB - yA), 0))\n",
    "\n",
    "    return interArea"
   ]
  },
  {
   "cell_type": "code",
   "execution_count": 7,
   "metadata": {},
   "outputs": [],
   "source": [
    "def process_frame(q, config): ## TODO: write metadata file\n",
    "    \"\"\"\n",
    "    This function processes each frame (provided as cv2 image frame) for flatfielding and segmentation. The steps include\n",
    "    1. Flatfield intensities as indicated\n",
    "    2. Segment the image using cv2 MSER algorithmn.\n",
    "    3. Remove strongly overlapping bounding boxes\n",
    "    4. Save cropped targets.\n",
    "    \"\"\"\n",
    "\n",
    "    while True:\n",
    "        frame = q.get()\n",
    "        if config['general']['dry_run'] == 'True':\n",
    "            print('.')\n",
    "            return\n",
    "        \n",
    "        #con = sqlite3.connect(frame.get_name() + '/' + 'images.db')\n",
    "        \n",
    "        ## Read img and flatfield\n",
    "        gray = cv2.cvtColor(frame.read(), cv2.COLOR_BGR2GRAY)\n",
    "        gray = np.array(gray)\n",
    "        field = np.quantile(gray, q=float(config['segmentation']['flatfield_q']), axis=0)\n",
    "        gray = (gray / field.T * 255.0)\n",
    "        gray = gray.clip(0,255).astype(np.uint8)\n",
    "\n",
    "        # Detect regions\n",
    "        mser = cv2.MSER_create(delta=int(config['segmentation']['delta']),\n",
    "                               min_area=int(config['segmentation']['min_area']),\n",
    "                                  max_area=int(config['segmentation']['max_area']),\n",
    "                                    max_variation=0.5,\n",
    "                                      min_diversity=0.1)\n",
    "        regions, bboxes = mser.detectRegions(gray)\n",
    "        area = bbox_area(bboxes)\n",
    "\n",
    "        for x in range(len(bboxes)-1):\n",
    "            for y in range(x+1, len(bboxes)):\n",
    "                overlap = intersection([bboxes[x][0], bboxes[x][1], bboxes[x][0]+bboxes[x][2], bboxes[x][1] + bboxes[x][3]], [bboxes[y][0], bboxes[y][1], bboxes[y][0]+bboxes[y][2], bboxes[y][1] + bboxes[y][3]])\n",
    "                if overlap * 1. / max(area[x], area[y]) > float(config['segmentation']['overlap']):\n",
    "                    if area[x] > area[y]:\n",
    "                        bboxes[y] = [0,0,0,0]\n",
    "                    else:\n",
    "                        bboxes[x] = [0,0,0,0]\n",
    "\n",
    "        area = bbox_area(bboxes)\n",
    "        name = frame.get_name()\n",
    "        n = frame.get_n()\n",
    "        with open(f'{name}statistics.csv', 'a', newline='\\n') as outcsv:\n",
    "            outwritter = csv.writer(outcsv, delimiter=',', quotechar='|')\n",
    "            for i in range(len(bboxes)):\n",
    "                if area[i] > 0:\n",
    "                    #im = sqlite3.Binary(gray[bboxes[i][1]:(bboxes[i][1] + bboxes[i][3]), bboxes[i][0]:(bboxes[i][0] + bboxes[i][2])])\n",
    "                    im = Image.fromarray(gray[bboxes[i][1]:(bboxes[i][1] + bboxes[i][3]), bboxes[i][0]:(bboxes[i][0] + bboxes[i][2])])\n",
    "                    im.save(f\"{name}{n:05}-{i:05}.png\")\n",
    "                    stats = [name, n, i, bboxes[i][0] + bboxes[i][2]/2, bboxes[i][1] + bboxes[i][3]/2, bboxes[i][2], bboxes[i][3], area[i]]\n",
    "                    outwritter.writerow(stats)\n",
    "                    #con.execute(f'INSERT INTO frame(frame,crop,image) VALUES ({n}, {i}, ?) [{im}]')\n"
   ]
  },
  {
   "cell_type": "code",
   "execution_count": 8,
   "metadata": {},
   "outputs": [],
   "source": [
    "def process_avi(avi_path, segmentation_dir, config, q):\n",
    "    \"\"\"\n",
    "    This function will take an avi filepath as input and perform the following steps:\n",
    "    1. Create output file structures/directories\n",
    "    2. Load each frame, pass it through flatfielding and sequentially save segmented targets\n",
    "    \"\"\"\n",
    "\n",
    "    # segmentation_dir: /media/plankline/Data/analysis/segmentation/Camera1/segmentation/Transect1-REG\n",
    "    _, filename = os.path.split(avi_path)\n",
    "    output_path = segmentation_dir + os.path.sep + filename + os.path.sep\n",
    "    os.makedirs(output_path, exist_ok=True)\n",
    "    \n",
    "    #con = sqlite3.connect(output_path + '/' + 'images.db')\n",
    "    #con.execute(\"CREATE TABLE frame(ID INT PRIMARY KEY NOT NULL,frame INT, crop INT, image BLOB)\")\n",
    "    #con.commit()\n",
    "    #con.close()\n",
    "\n",
    "    video = cv2.VideoCapture(avi_path)\n",
    "    #length = int(cap.get(cv2.CAP_PROP_FRAME_COUNT))\n",
    "    if not video.isOpened():\n",
    "        return\n",
    "    \n",
    "    with open(f'{output_path}statistics.csv', 'a', newline='\\n') as outcsv:\n",
    "        outwritter = csv.writer(outcsv, delimiter=',', quotechar='|')\n",
    "        outwritter.writerow(['file', 'frame', 'crop', 'x', 'y', 'w', 'h', 'area'])\n",
    "\n",
    "    n = 1\n",
    "    while True:\n",
    "        ret, frame = video.read()\n",
    "        if ret:\n",
    "            q.put(Frame(avi_path, output_path, frame, n), block = True)\n",
    "            n += 1\n",
    "        else:\n",
    "            break"
   ]
  },
  {
   "cell_type": "code",
   "execution_count": 9,
   "metadata": {},
   "outputs": [],
   "source": [
    "directory = '../../raw/camera0/test1/'\n",
    "configuration = 'default.ini'"
   ]
  },
  {
   "cell_type": "code",
   "execution_count": 12,
   "metadata": {},
   "outputs": [
    {
     "name": "stdout",
     "output_type": "stream",
     "text": [
      "Starting Segmentation Script V2023.11.08\n",
      "<Section: segmentation>\n"
     ]
    }
   ],
   "source": [
    "v_string = \"V2023.11.08\"\n",
    "print(f\"Starting Segmentation Script {v_string}\")\n",
    "\n",
    "config = configparser.ConfigParser()\n",
    "config.read(configuration)\n",
    "print(config['segmentation'])"
   ]
  },
  {
   "cell_type": "code",
   "execution_count": 13,
   "metadata": {},
   "outputs": [],
   "source": [
    "## Determine directories\n",
    "raw_dir = os.path.abspath(directory) # /media/plankline/Data/raw/Camera1/Transect1\n",
    "segmentation_dir = raw_dir.replace(\"raw\", \"analysis\") # /media/plankline/Data/analysis/Camera1/Transect1\n",
    "segmentation_dir = segmentation_dir.replace(\"camera0/\", \"camera0/segmentation/\") # /media/plankline/Data/analysis/Camera1/Transect1\n",
    "segmentation_dir = segmentation_dir.replace(\"camera1/\", \"camera1/segmentation/\") # /media/plankline/Data/analysis/Camera1/segmentation/Transect1\n",
    "segmentation_dir = segmentation_dir.replace(\"camera2/\", \"camera2/segmentation/\") # /media/plankline/Data/analysis/Camera1/segmentation/Transect1\n",
    "segmentation_dir = segmentation_dir.replace(\"camera3/\", \"camera3/segmentation/\") # /media/plankline/Data/analysis/Camera1/segmentation/Transect1\n",
    "    \n",
    "segmentation_dir = segmentation_dir + f\"-{config['segmentation']['basename']}\" # /media/plankline/Data/analysis/segmentation/Camera1/segmentation/Transect1-REG\n",
    "os.makedirs(segmentation_dir, int(config['general']['dir_permissions']), exist_ok = True)\n"
   ]
  },
  {
   "cell_type": "code",
   "execution_count": 14,
   "metadata": {},
   "outputs": [
    {
     "data": {
      "text/plain": [
       "13"
      ]
     },
     "execution_count": 14,
     "metadata": {},
     "output_type": "execute_result"
    }
   ],
   "source": [
    "avis = []\n",
    "avis = [os.path.join(raw_dir, avi) for avi in os.listdir(raw_dir) if avi.endswith(\".avi\")]\n",
    "len(avis)"
   ]
  },
  {
   "cell_type": "code",
   "execution_count": 15,
   "metadata": {},
   "outputs": [
    {
     "name": "stdout",
     "output_type": "stream",
     "text": [
      "47\n"
     ]
    }
   ],
   "source": [
    "## Prepare workers for receiving frames\n",
    "num_threads = os.cpu_count() - 1\n",
    "#num_threads = 2\n",
    "max_queue = num_threads * 4\n",
    "q = Queue(maxsize=int(max_queue))\n",
    "\n",
    "for i in range(num_threads):\n",
    "    worker = Process(target=process_frame, args=(q, config,), daemon=True)\n",
    "    worker.start()\n",
    "    \n",
    "print(num_threads)"
   ]
  },
  {
   "cell_type": "code",
   "execution_count": 16,
   "metadata": {},
   "outputs": [
    {
     "name": "stderr",
     "output_type": "stream",
     "text": [
      "100%|██████████| 13/13 [09:01<00:00, 41.62s/it]\n"
     ]
    },
    {
     "name": "stdout",
     "output_type": "stream",
     "text": [
      "Joining\n"
     ]
    }
   ],
   "source": [
    "for av in tqdm.tqdm(avis):\n",
    "    process_avi(av, segmentation_dir, config, q)\n",
    "\n",
    "print('Joining')\n",
    "worker.join(timeout=10)"
   ]
  },
  {
   "cell_type": "code",
   "execution_count": null,
   "metadata": {},
   "outputs": [],
   "source": []
  }
 ],
 "metadata": {
  "kernelspec": {
   "display_name": "Python 3",
   "language": "python",
   "name": "python3"
  },
  "language_info": {
   "codemirror_mode": {
    "name": "ipython",
    "version": 3
   },
   "file_extension": ".py",
   "mimetype": "text/x-python",
   "name": "python",
   "nbconvert_exporter": "python",
   "pygments_lexer": "ipython3",
   "version": "3.8.10"
  }
 },
 "nbformat": 4,
 "nbformat_minor": 2
}
