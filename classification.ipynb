{
 "cells": [
  {
   "cell_type": "code",
   "execution_count": 1,
   "metadata": {},
   "outputs": [],
   "source": [
    "import os\n",
    "import sys\n",
    "import shutil\n",
    "import argparse\n",
    "import glob\n",
    "import logging\n",
    "import configparser\n",
    "import logging.config\n",
    "import tqdm\n",
    "import subprocess\n",
    "import datetime\n",
    "from time import time\n",
    "from multiprocessing import Pool, Queue\n",
    "import psutil\n",
    "import tensorflow as tf\n",
    "import seaborn as sns\n",
    "import matplotlib.pyplot as plt\n",
    "import numpy as np\n",
    "import pathlib\n",
    "import csv\n",
    "from PIL import Image\n",
    "import os\n",
    "import pandas as pd"
   ]
  },
  {
   "cell_type": "code",
   "execution_count": 2,
   "metadata": {},
   "outputs": [],
   "source": [
    "def classify(model, input_dir, output_dir):\n",
    "    images = []\n",
    "    image_files = []\n",
    "    for img in os.listdir(input_dir):\n",
    "        if os.path.splitext(img)[1] == '.png':\n",
    "            image_files.append(img)\n",
    "            img = tf.keras.preprocessing.image.load_img(input_dir + '/' + img, target_size=(int(config['classification']['image_size']),int(config['classification']['image_size'])), color_mode='grayscale')\n",
    "            img = np.expand_dims(img, axis=0)\n",
    "            images.append(img)\n",
    "    images = np.vstack(images)\n",
    "    \n",
    "    predictions = model.predict(images)\n",
    "    prediction_labels = np.argmax(predictions, axis=-1)\n",
    "    df = pd.DataFrame(predictions, index=image_files)\n",
    "    df.to_csv(output_dir + '_' + 'prediction.csv', index=True, header=True, sep=',')\n",
    "    "
   ]
  },
  {
   "cell_type": "code",
   "execution_count": 3,
   "metadata": {},
   "outputs": [],
   "source": [
    "def pad(path, ratio=0.2):\n",
    "    dirs = os.listdir(path)\n",
    "    count = 0\n",
    "    for item in dirs:\n",
    "        if not os.path.isfile(path + '/' + item):\n",
    "            dirs2 = os.listdir(path + '/' + item + \"/\")\n",
    "            for item2 in dirs2:\n",
    "                if os.path.isfile(path+'/'+item+\"/\"+item2):\n",
    "                    if os.path.splitext(path+'/'+item+\"/\"+item2)[1] == '.png':\n",
    "                        im = Image.open(path+'/'+item+\"/\"+item2)\n",
    "                        width, height = im.size\n",
    "                        if width > height * (1. + ratio):\n",
    "                            left = 0\n",
    "                            right = width\n",
    "                            top = (width - height)//2\n",
    "                            bottom = width\n",
    "                            result = Image.new(im.mode, (right, bottom), (255))\n",
    "                            result.paste(im, (left, top))\n",
    "                            im.close()\n",
    "                            result.save(path + '/'+item+\"/\"+item2)\n",
    "                            count+=1\n",
    "                        elif height > width * (1. + ratio):\n",
    "                            left = (height - width)//2\n",
    "                            right = height\n",
    "                            top = 0\n",
    "                            bottom = height\n",
    "                            result = Image.new(im.mode, (right, bottom), (255))\n",
    "                            result.paste(im, (left, top))\n",
    "                            im.close()\n",
    "                            result.save(path + '/'+item+\"/\"+item2)\n",
    "                            count+=1\n",
    "    count"
   ]
  },
  {
   "cell_type": "code",
   "execution_count": 4,
   "metadata": {},
   "outputs": [],
   "source": [
    "directory = '../../analysis/camera0/segmentation/test1-REG/'\n",
    "configuration = 'default.ini'"
   ]
  },
  {
   "cell_type": "code",
   "execution_count": 5,
   "metadata": {},
   "outputs": [
    {
     "name": "stdout",
     "output_type": "stream",
     "text": [
      "Starting Plankline Classification Script V2023.11.13\n"
     ]
    },
    {
     "data": {
      "text/plain": [
       "['default.ini']"
      ]
     },
     "execution_count": 5,
     "metadata": {},
     "output_type": "execute_result"
    }
   ],
   "source": [
    "v_string = \"V2023.11.13\"\n",
    "session_id = str(datetime.datetime.now().strftime(\"%Y%m%d_%H%M%S\")).replace(':', '')\n",
    "print(f\"Starting Plankline Classification Script {v_string}\")\n",
    "\n",
    "config = configparser.ConfigParser()\n",
    "config.read(configuration)"
   ]
  },
  {
   "cell_type": "code",
   "execution_count": 6,
   "metadata": {},
   "outputs": [
    {
     "name": "stdout",
     "output_type": "stream",
     "text": [
      "WARNING:tensorflow:Using a while_loop for converting RngReadAndSkip cause there is no registered converter for this op.\n",
      "WARNING:tensorflow:Using a while_loop for converting Bitcast cause there is no registered converter for this op.\n",
      "WARNING:tensorflow:Using a while_loop for converting Bitcast cause there is no registered converter for this op.\n",
      "WARNING:tensorflow:Using a while_loop for converting StatelessRandomUniformV2 cause there is no registered converter for this op.\n",
      "WARNING:tensorflow:Using a while_loop for converting ImageProjectiveTransformV3 cause there is no registered converter for this op.\n"
     ]
    }
   ],
   "source": [
    "# Load model\n",
    "model_path = '../../model/Beta/'\n",
    "model = tf.keras.models.load_model(model_path)"
   ]
  },
  {
   "cell_type": "code",
   "execution_count": 7,
   "metadata": {},
   "outputs": [],
   "source": [
    "segmentation_dir = os.path.abspath(directory)  # /media/plankline/Data/analysis/segmentation/Camera1/Transect1-reg\n",
    "classification_dir = segmentation_dir.replace('segmentation', 'classification')  # /media/plankline/Data/analysis/segmentation/Camera1/Transect1-reg\n",
    "classification_dir = classification_dir + '-' + config[\"classification\"][\"model_name\"] # /media/plankline/Data/analysis/segmentation/Camera1/Transect1-reg-Plankton\n",
    "fast_scratch = config['classification']['fast_scratch'] + \"/classify-\" + session_id\n",
    "    \n",
    "os.makedirs(classification_dir, int(config['general']['dir_permissions']), exist_ok = True)\n",
    "os.makedirs(fast_scratch, int(config['general']['dir_permissions']), exist_ok = True)\n",
    "    \n",
    "root = os.listdir(segmentation_dir)"
   ]
  },
  {
   "cell_type": "code",
   "execution_count": 8,
   "metadata": {},
   "outputs": [
    {
     "name": "stdout",
     "output_type": "stream",
     "text": [
      "Number of images padded: None.\n"
     ]
    }
   ],
   "source": [
    "n_pad = pad(segmentation_dir)\n",
    "print(f\"Number of images padded: {n_pad}.\")"
   ]
  },
  {
   "cell_type": "code",
   "execution_count": 9,
   "metadata": {},
   "outputs": [
    {
     "name": "stdout",
     "output_type": "stream",
     "text": [
      "67/67 [==============================] - 4s 29ms/step\n",
      "164/164 [==============================] - 4s 27ms/step\n",
      "197/197 [==============================] - 5s 27ms/step\n",
      "81/81 [==============================] - 2s 26ms/step\n",
      "224/224 [==============================] - 6s 27ms/step\n",
      "55/55 [==============================] - 2s 28ms/step\n",
      "39/39 [==============================] - 1s 31ms/step\n",
      "589/589 [==============================] - 15s 26ms/step\n",
      "96/96 [==============================] - 3s 28ms/step\n",
      "164/164 [==============================] - 4s 26ms/step\n",
      "164/164 [==============================] - 4s 26ms/step\n",
      "241/241 [==============================] - 6s 27ms/step\n",
      "51/51 [==============================] - 2s 30ms/step\n"
     ]
    }
   ],
   "source": [
    "for r in root:\n",
    "    classify(model, segmentation_dir + '/' + r, classification_dir + '/' + r)"
   ]
  }
 ],
 "metadata": {
  "kernelspec": {
   "display_name": "Python 3",
   "language": "python",
   "name": "python3"
  },
  "language_info": {
   "codemirror_mode": {
    "name": "ipython",
    "version": 3
   },
   "file_extension": ".py",
   "mimetype": "text/x-python",
   "name": "python",
   "nbconvert_exporter": "python",
   "pygments_lexer": "ipython3",
   "version": "3.8.10"
  }
 },
 "nbformat": 4,
 "nbformat_minor": 2
}
